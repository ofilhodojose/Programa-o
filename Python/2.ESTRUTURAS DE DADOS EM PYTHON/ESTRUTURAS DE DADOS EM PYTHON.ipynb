{
 "cells": [
  {
   "cell_type": "code",
   "execution_count": null,
   "id": "eff22693",
   "metadata": {},
   "outputs": [],
   "source": [
    "COMO DEFINIMOS ESTRUTURAS DE DADOS EM PYTHON\n",
    "\n",
    "Em Python existem objetos em que podemos armazenar mais de um valor, aos quais damos o nome de estruturas de dados.\n",
    "\n",
    "INTRODUÇÃO\n",
    "\n",
    "\"Todos os dados em um programa Python são representados por objetos ou pela relação entre objetos.\"(PSF,p.1 2020).\n",
    "Tudo em Python é objeto. Mas, afinal, o que são objetos? Embora tenhamos uma seção inteira dedicada a esse tema, por\n",
    "ora basta entendermos que um objeto é uma estrutura que possui certas]\n",
    "caracteristicas e ações.\n",
    "\n",
    "Já conhecemos alguns tipos de objetos em Python, tais como int(inteiro), o str\n",
    "(string), o float(ponto flutuante), tipos que nos lembram das variáveis primitivas de\n",
    "outras linguagens, como C ou Java,\n",
    "\n",
    "Um objeto pode ser mais complexo que um tipo primitivo. Por exemplo, o tipo\n",
    "primitivo int, na linguagem C, ocupa no máximo 4 bytes (32 bits) e pode armazenar\n",
    "valores entre -2.147.483.648 e 2.147.483.647 (https?bit.ly2NRspl9). Já o objeto do \n",
    "tipo int, na linguagem Python, não possui um limite definido, uma vez que fica \n",
    "limitado apenas à memória RAM (random access memory) disponível no ambiente\n",
    "\n",
    "Outro exemplo interessante é a classe str (string). Em linguagem com a C, uma\n",
    "string é um vetor do tipo primitivo char. Por sua vez, em Python, esse objeto, além \n",
    "de tamanho ilimitado, possui vários métodos para manipulação de textos, como o\n",
    "split(), o replace(), dentre outros.\n",
    "\n",
    "O tipo do objeto determina os valores que ele pode armazenar e as operações que\n",
    "podem ser feitas com tal estrutura. Nesta seção, portanto, nosso objetivo é \n",
    "aprender novos tipos de objetos suportados pela linguagem Python. vamos, mais \n",
    "especificamente, aprender sobre os tipos de estruturas de dados: listas, tuplas,\n",
    "conjuntos, dicionário e matriz.\n",
    "\n",
    "ESTRUTURAS DE DADOS EM PYTHON\n",
    "\n",
    "Em Python, existem objetos que são usados para armazenar mais de um valor, \n",
    "também chamados de estruturas de dados. Cada Objeto é capaz de armazenar um \n",
    "tipo de estrutura de dados, particularidade essa que habilita funções diferentes\n",
    "para cada tipo. Portanto, a escolha da estrutura depende do problema a ser \n",
    "resolvido. Para nosso estudo, vamos dividir as estruturas de dados\n"
   ]
  }
 ],
 "metadata": {
  "kernelspec": {
   "display_name": "Python 3 (ipykernel)",
   "language": "python",
   "name": "python3"
  },
  "language_info": {
   "codemirror_mode": {
    "name": "ipython",
    "version": 3
   },
   "file_extension": ".py",
   "mimetype": "text/x-python",
   "name": "python",
   "nbconvert_exporter": "python",
   "pygments_lexer": "ipython3",
   "version": "3.9.7"
  }
 },
 "nbformat": 4,
 "nbformat_minor": 5
}
