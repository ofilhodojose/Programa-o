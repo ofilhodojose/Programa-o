{
 "cells": [
  {
   "cell_type": "markdown",
   "id": "2bcc9509",
   "metadata": {},
   "source": []
  },
  {
   "cell_type": "code",
   "execution_count": 1,
   "id": "409db63b",
   "metadata": {},
   "outputs": [
    {
     "name": "stdout",
     "output_type": "stream",
     "text": [
      "Digite seu nome!: Junior\n",
      "É um prazer te conhecer, Junior!\n"
     ]
    }
   ],
   "source": [
    "nome = input('Digite seu nome!: ')\n",
    "print('É um prazer te conhecer, {}!'.format(nome))"
   ]
  },
  {
   "cell_type": "code",
   "execution_count": null,
   "id": "6f7e8f22",
   "metadata": {},
   "outputs": [],
   "source": []
  }
 ],
 "metadata": {
  "kernelspec": {
   "display_name": "Python 3 (ipykernel)",
   "language": "python",
   "name": "python3"
  },
  "language_info": {
   "codemirror_mode": {
    "name": "ipython",
    "version": 3
   },
   "file_extension": ".py",
   "mimetype": "text/x-python",
   "name": "python",
   "nbconvert_exporter": "python",
   "pygments_lexer": "ipython3",
   "version": "3.9.7"
  }
 },
 "nbformat": 4,
 "nbformat_minor": 5
}
